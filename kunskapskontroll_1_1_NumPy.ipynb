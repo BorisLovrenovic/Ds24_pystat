{
 "cells": [
  {
   "cell_type": "markdown",
   "id": "dacf74e6",
   "metadata": {},
   "source": [
    "# NumPy"
   ]
  },
  {
   "cell_type": "markdown",
   "id": "01b2bf34",
   "metadata": {},
   "source": [
    "Read the links: https://numpy.org/doc/stable/user/quickstart.html  and https://numpy.org/doc/stable/user/basics.broadcasting.html  before solving the exercises. "
   ]
  },
  {
   "cell_type": "code",
   "id": "1f79e4a6",
   "metadata": {
    "ExecuteTime": {
     "end_time": "2024-11-06T09:05:26.360624Z",
     "start_time": "2024-11-06T09:05:26.304781Z"
    }
   },
   "source": "import numpy as np",
   "outputs": [],
   "execution_count": 1
  },
  {
   "cell_type": "markdown",
   "id": "7dae6889",
   "metadata": {},
   "source": [
    "### Print out the dimension (number of axes), shape, size and the datatype of the matrix A."
   ]
  },
  {
   "cell_type": "code",
   "id": "7b3678cd",
   "metadata": {
    "ExecuteTime": {
     "end_time": "2024-11-06T09:05:31.005602Z",
     "start_time": "2024-11-06T09:05:30.998968Z"
    }
   },
   "source": [
    "A = np.arange(1, 16).reshape(3,5)\n",
    "\n",
    "print(A.ndim)\n",
    "print(A.shape)\n",
    "print(A.size)\n",
    "print(A.dtype)"
   ],
   "outputs": [
    {
     "name": "stdout",
     "output_type": "stream",
     "text": [
      "2\n",
      "(3, 5)\n",
      "15\n",
      "int64\n"
     ]
    }
   ],
   "execution_count": 2
  },
  {
   "cell_type": "markdown",
   "id": "e56d2a96",
   "metadata": {},
   "source": [
    "### Do the following computations on the matrices B and C: \n",
    "* Elementwise subtraction. \n",
    "* Elementwise multiplication. \n",
    "* Matrix multiplication (by default you should use the @ operator)."
   ]
  },
  {
   "cell_type": "code",
   "id": "a7053fbb",
   "metadata": {
    "ExecuteTime": {
     "end_time": "2024-10-15T13:19:08.056114Z",
     "start_time": "2024-10-15T13:19:08.050350Z"
    }
   },
   "source": [
    "B = np.arange(1, 10).reshape(3, 3)\n",
    "C = np.ones((3, 3))*2\n",
    "\n",
    "print(B)\n",
    "print()\n",
    "print(C)"
   ],
   "outputs": [
    {
     "name": "stdout",
     "output_type": "stream",
     "text": [
      "[[1 2 3]\n",
      " [4 5 6]\n",
      " [7 8 9]]\n",
      "\n",
      "[[2. 2. 2.]\n",
      " [2. 2. 2.]\n",
      " [2. 2. 2.]]\n"
     ]
    }
   ],
   "execution_count": 6
  },
  {
   "cell_type": "code",
   "id": "3cd794ae",
   "metadata": {
    "ExecuteTime": {
     "end_time": "2024-10-15T13:20:41.417149Z",
     "start_time": "2024-10-15T13:20:41.410640Z"
    }
   },
   "source": [
    "ew_subtraction = B - C\n",
    "print(ew_subtraction)\n",
    "ew_multiplication = B * C\n",
    "print(ew_multiplication)\n",
    "matrix_multiply = B @ C\n",
    "print(matrix_multiply)"
   ],
   "outputs": [
    {
     "name": "stdout",
     "output_type": "stream",
     "text": [
      "[[-1.  0.  1.]\n",
      " [ 2.  3.  4.]\n",
      " [ 5.  6.  7.]]\n",
      "[[ 2.  4.  6.]\n",
      " [ 8. 10. 12.]\n",
      " [14. 16. 18.]]\n",
      "[[12. 12. 12.]\n",
      " [30. 30. 30.]\n",
      " [48. 48. 48.]]\n"
     ]
    }
   ],
   "execution_count": 7
  },
  {
   "cell_type": "markdown",
   "id": "96030d53",
   "metadata": {},
   "source": [
    "### Do the following calculations on the matrix:\n",
    "* Exponentiate each number elementwise (use the np.exp function).\n",
    "\n",
    "* Calculate the minimum value in the whole matrix. \n",
    "* Calculcate the minimum value in each row. \n",
    "* Calculcate the minimum value in each column. \n",
    "\n",
    "\n",
    "* Find the index value for the minimum value in the whole matrix (hint: use np.argmin).\n",
    "* Find the index value for the minimum value in each row (hint: use np.argmin).\n",
    "\n",
    "\n",
    "* Calculate the sum for all elements.\n",
    "* Calculate the mean for each column. \n",
    "* Calculate the median for each column. "
   ]
  },
  {
   "cell_type": "code",
   "id": "f8a9166b",
   "metadata": {
    "ExecuteTime": {
     "end_time": "2024-10-15T13:25:01.028032Z",
     "start_time": "2024-10-15T13:25:01.022476Z"
    }
   },
   "source": [
    "B = np.arange(1, 10).reshape(3, 3)\n",
    "print(B)\n",
    "\n",
    "print(np.exp(B))\n",
    "print(np.min(B))\n",
    "print(np.min(B, axis=1))\n",
    "print(np.min(B, axis=0))\n",
    "print(np.argmin(B))\n",
    "print(np.argmin(B, axis=1))\n",
    "print(np.sum(B))\n",
    "print(np.mean(B, axis=0))\n",
    "print(np.median(B, axis=0))"
   ],
   "outputs": [
    {
     "name": "stdout",
     "output_type": "stream",
     "text": [
      "[[1 2 3]\n",
      " [4 5 6]\n",
      " [7 8 9]]\n",
      "[[2.71828183e+00 7.38905610e+00 2.00855369e+01]\n",
      " [5.45981500e+01 1.48413159e+02 4.03428793e+02]\n",
      " [1.09663316e+03 2.98095799e+03 8.10308393e+03]]\n",
      "1\n",
      "[1 4 7]\n",
      "[1 2 3]\n",
      "0\n",
      "[0 0 0]\n",
      "45\n",
      "[4. 5. 6.]\n",
      "[4. 5. 6.]\n"
     ]
    }
   ],
   "execution_count": 36
  },
  {
   "cell_type": "markdown",
   "id": "541eb7ba",
   "metadata": {},
   "source": [
    "### What does it mean when you provide fewer indices than axes when slicing? See example below."
   ]
  },
  {
   "cell_type": "code",
   "execution_count": null,
   "id": "9c8abf56",
   "metadata": {},
   "outputs": [],
   "source": [
    "print(A)"
   ]
  },
  {
   "cell_type": "code",
   "execution_count": null,
   "id": "69415f7b",
   "metadata": {},
   "outputs": [],
   "source": [
    "A[1]"
   ]
  },
  {
   "cell_type": "markdown",
   "id": "6c53541b",
   "metadata": {},
   "source": [
    "**Answer:**"
   ]
  },
  {
   "cell_type": "code",
   "execution_count": null,
   "id": "de01e120",
   "metadata": {},
   "outputs": [],
   "source": [
    "Output man får är den andra raden (index 1) i en 2D array. Det finns två axis i array:n, (rad och kolumn),\n",
    "men när man inte skriver kod för en specifik punkt, så tolkar Numpy det att du kör en slice genom hela raden, inklusive alla kolumner.\n",
    "Vill man ha en mer specifik punkt för en kolumn kan lägga till det med exempelvis: A[1, 2]."
   ]
  },
  {
   "cell_type": "markdown",
   "id": "6652d0c9",
   "metadata": {},
   "source": [
    "### Iterating over multidimensional arrays is done with respect to the first axis, so in the example below we iterate trough the rows. If you would like to iterate through the array *elementwise*, how would you do that?"
   ]
  },
  {
   "cell_type": "code",
   "id": "9459864f",
   "metadata": {
    "ExecuteTime": {
     "end_time": "2024-10-15T15:01:13.696173Z",
     "start_time": "2024-10-15T15:01:13.678298Z"
    }
   },
   "source": [
    "A"
   ],
   "outputs": [
    {
     "data": {
      "text/plain": [
       "array([[ 1,  2,  3,  4,  5],\n",
       "       [ 6,  7,  8,  9, 10],\n",
       "       [11, 12, 13, 14, 15]])"
      ]
     },
     "execution_count": 37,
     "metadata": {},
     "output_type": "execute_result"
    }
   ],
   "execution_count": 37
  },
  {
   "cell_type": "code",
   "id": "a671bb5a",
   "metadata": {
    "ExecuteTime": {
     "end_time": "2024-10-15T15:03:40.353564Z",
     "start_time": "2024-10-15T15:03:40.349600Z"
    }
   },
   "source": [
    "for i in A.flat:\n",
    "    print(i)"
   ],
   "outputs": [
    {
     "name": "stdout",
     "output_type": "stream",
     "text": [
      "1\n",
      "2\n",
      "3\n",
      "4\n",
      "5\n",
      "6\n",
      "7\n",
      "8\n",
      "9\n",
      "10\n",
      "11\n",
      "12\n",
      "13\n",
      "14\n",
      "15\n"
     ]
    }
   ],
   "execution_count": 39
  },
  {
   "cell_type": "markdown",
   "id": "608a2583",
   "metadata": {},
   "source": [
    "### Explain what the code below does. More specifically, b has three axes - what does this mean? "
   ]
  },
  {
   "cell_type": "code",
   "id": "f8f9b26f",
   "metadata": {
    "ExecuteTime": {
     "end_time": "2024-10-15T15:08:22.355942Z",
     "start_time": "2024-10-15T15:08:22.346633Z"
    }
   },
   "source": [
    "a = np.arange(30)\n",
    "b = a.reshape((2, 3, -1))\n",
    "print(a)\n",
    "print()\n",
    "\n",
    "print(b)"
   ],
   "outputs": [
    {
     "name": "stdout",
     "output_type": "stream",
     "text": [
      "[ 0  1  2  3  4  5  6  7  8  9 10 11 12 13 14 15 16 17 18 19 20 21 22 23\n",
      " 24 25 26 27 28 29]\n",
      "\n",
      "[[[ 0  1  2  3  4]\n",
      "  [ 5  6  7  8  9]\n",
      "  [10 11 12 13 14]]\n",
      "\n",
      " [[15 16 17 18 19]\n",
      "  [20 21 22 23 24]\n",
      "  [25 26 27 28 29]]]\n"
     ]
    }
   ],
   "execution_count": 41
  },
  {
   "cell_type": "code",
   "id": "863a45df",
   "metadata": {
    "ExecuteTime": {
     "end_time": "2024-10-15T15:05:08.579116Z",
     "start_time": "2024-10-15T15:05:08.566349Z"
    }
   },
   "source": [
    "Svar:\n",
    ".arange(30) genererar nummer i en sekvens, mellan 0 - 29. (Börjar från 0), i en 1 dimensionell array. \n",
    ".reshape ändrar den till en ny array med en specifik definierad shape. I detta fallet 2, 3. (Första axis = 2, andra = 3)\n",
    "Men i tredje axis (-1), säger man till NumPy att automatiskt kalkylera storleken för denna axis, baserad på den totala mängden element (30).\n",
    "Detta skapar en 3 dimensionell array med 2 block (första axis), 3 rader (andra axis), och 5 element för varje rad (eftersom totala mängden element är 30).\n",
    "\n",
    "Side note: Som jag förstått det, så baseras den reshaped arrayn 5 element för varje rad. Är det korrekt att då säga att den tredje axis (-1, som blir 5 efter reshape), skapar 5 kolumner?"
   ],
   "outputs": [
    {
     "ename": "SyntaxError",
     "evalue": "invalid syntax (2383973643.py, line 1)",
     "output_type": "error",
     "traceback": [
      "\u001B[1;36m  Cell \u001B[1;32mIn[40], line 1\u001B[1;36m\u001B[0m\n\u001B[1;33m    Svar:\u001B[0m\n\u001B[1;37m         ^\u001B[0m\n\u001B[1;31mSyntaxError\u001B[0m\u001B[1;31m:\u001B[0m invalid syntax\n"
     ]
    }
   ],
   "execution_count": 40
  },
  {
   "cell_type": "markdown",
   "id": "ab5933d5",
   "metadata": {},
   "source": [
    "### Broadcasting\n",
    "**Read the following link about broadcasting: https://numpy.org/doc/stable/user/basics.broadcasting.html#basics-broadcasting**"
   ]
  },
  {
   "cell_type": "markdown",
   "id": "039805ba",
   "metadata": {},
   "source": [
    "# Remark on Broadcasting when doing Linear Algebra calculations in Python. "
   ]
  },
  {
   "cell_type": "markdown",
   "id": "c4bcc147",
   "metadata": {},
   "source": [
    "### From the mathematical rules of matrix addition, the operation below (m1 + m2) does not make sense. The reason is that matrix addition requires two matrices of the same size. In Python however, it works due to broadcasting rules in NumPy. So you must be careful when doing Linear Algebra calculations in Python since they do not follow the \"mathematical rules\". This can however easily be handled by doing some simple programming, for example validating that two matrices have the same shape is easy if you for instance want to add two matrices. "
   ]
  },
  {
   "cell_type": "code",
   "id": "1fd46778",
   "metadata": {
    "ExecuteTime": {
     "end_time": "2024-10-15T15:21:09.824157Z",
     "start_time": "2024-10-15T15:21:09.816007Z"
    }
   },
   "source": [
    "m1 = np.array([[1, 2], [3, 4]])\n",
    "m2 = np.array([1, 1])\n",
    "print(m1 + m2)"
   ],
   "outputs": [
    {
     "name": "stdout",
     "output_type": "stream",
     "text": [
      "[[2 3]\n",
      " [4 5]]\n"
     ]
    }
   ],
   "execution_count": 42
  },
  {
   "cell_type": "markdown",
   "id": "047d6576",
   "metadata": {},
   "source": [
    "### The example below would also not be allowed if following the \"mathematical rules\" in Linear Algebra. But it works due to broadcasting in NumPy. "
   ]
  },
  {
   "cell_type": "code",
   "id": "5e6ef2e4",
   "metadata": {
    "ExecuteTime": {
     "end_time": "2024-10-15T15:21:52.128931Z",
     "start_time": "2024-10-15T15:21:52.118252Z"
    }
   },
   "source": [
    "v1 = np.array([1, 2, 3])\n",
    "print(v1 + 1)"
   ],
   "outputs": [
    {
     "name": "stdout",
     "output_type": "stream",
     "text": [
      "[2 3 4]\n"
     ]
    }
   ],
   "execution_count": 43
  },
  {
   "cell_type": "code",
   "id": "e2cbae26",
   "metadata": {
    "ExecuteTime": {
     "end_time": "2024-10-15T15:22:10.950854Z",
     "start_time": "2024-10-15T15:22:10.933946Z"
    }
   },
   "source": [
    "A = np.arange(1, 5).reshape(2,2)\n",
    "print(A)\n",
    "\n",
    "b = np.array([2, 2])\n",
    "print(b)"
   ],
   "outputs": [
    {
     "name": "stdout",
     "output_type": "stream",
     "text": [
      "[[1 2]\n",
      " [3 4]]\n",
      "[2 2]\n"
     ]
    }
   ],
   "execution_count": 44
  },
  {
   "cell_type": "markdown",
   "id": "722fd5cd",
   "metadata": {},
   "source": [
    "# Vector- and matrix algebra Exercises"
   ]
  },
  {
   "cell_type": "markdown",
   "id": "b63a3081-d976-4d9f-bfd0-a63917e79f7d",
   "metadata": {},
   "source": [
    "**Now you are going to create a function that can be reused every time you add or multiply matrices. The function is created so that we do the addition and multiplication according to the rules of vector- and matrix algebra.**\n",
    "\n",
    "**Create a function \"add_mult_matrices\" that takes two matrices as input arguments (validate that the input are of the type numpy.ndarray by using the isinstance function), a third argument that is either 'add' or 'multiply' that specifies if you want to add or multiply the matrices (validate that the third argument is either 'add' or 'multiply'). When doing matrix addition, validate that the matrices have the same size. When doing matrix multiplication, validate that the sizes conform (i.e. number of columns in the first matrix is equal to the number of rows in the second matrix).**"
   ]
  },
  {
   "metadata": {
    "ExecuteTime": {
     "end_time": "2024-10-15T16:19:55.490087Z",
     "start_time": "2024-10-15T16:19:55.486112Z"
    }
   },
   "cell_type": "code",
   "source": "import numpy as np",
   "id": "e3c417b0657951ce",
   "outputs": [],
   "execution_count": 94
  },
  {
   "cell_type": "code",
   "id": "3506f977-ac0a-473f-85bc-eec9f35dc498",
   "metadata": {
    "ExecuteTime": {
     "end_time": "2024-11-06T10:03:53.572182Z",
     "start_time": "2024-11-06T10:03:53.565639Z"
    }
   },
   "source": [
    "matrix1 = np.array([1, 2, 3, 4, 5]).reshape(1, 5)\n",
    "matrix2 = np.array([6, 7, 8, 9, 10]).reshape(5, 1)\n",
    "\n",
    "def add_mult_matrices(matrix1, matrix2, add_or_multiply):\n",
    "    \n",
    "    if not isinstance(matrix1, np.ndarray) or not isinstance(matrix2, np.ndarray):\n",
    "        print(\"Type is not .ndarray\")\n",
    "        return None\n",
    "    \n",
    "    if add_or_multiply == 'add':\n",
    "        if matrix1.shape[1] != matrix2.shape[0]:\n",
    "            print(\"Shape mismatch\")\n",
    "            return None\n",
    "        return matrix1 + matrix2\n",
    "    \n",
    "    elif add_or_multiply == 'multi':\n",
    "        if matrix1.shape[1] != matrix2.shape[0]:\n",
    "            print(\"Shape mismatch\")\n",
    "            return None\n",
    "        return np.dot(matrix1, matrix2)\n",
    "    \n",
    "    else:\n",
    "        print(\"'Add' or 'Multiply'\")\n",
    "        return None\n",
    "        \n",
    "add = add_mult_matrices(matrix1, matrix2, \"add\")\n",
    "multi = add_mult_matrices(matrix1, matrix2, \"multi\")\n",
    "\n",
    "print(add)\n",
    "print(multi)\n"
   ],
   "outputs": [
    {
     "name": "stdout",
     "output_type": "stream",
     "text": [
      "[[ 7  8  9 10 11]\n",
      " [ 8  9 10 11 12]\n",
      " [ 9 10 11 12 13]\n",
      " [10 11 12 13 14]\n",
      " [11 12 13 14 15]]\n",
      "[[130]]\n"
     ]
    }
   ],
   "execution_count": 48
  },
  {
   "cell_type": "markdown",
   "id": "8dad82d0-2359-4dff-8f5b-a57d3e34103c",
   "metadata": {},
   "source": [
    "### Solve all the exercises in chapter 10.1 in the book \"Matematik för yrkeshögskolan\". "
   ]
  },
  {
   "cell_type": "code",
   "id": "89df88af-3668-4d98-a0a4-e6d92eea0f89",
   "metadata": {
    "ExecuteTime": {
     "end_time": "2024-11-06T09:34:16.606986Z",
     "start_time": "2024-11-06T09:34:16.599824Z"
    }
   },
   "source": [
    "x = np.array([4, 3]) # 1D Array\n",
    "x_re = np.array([4, 3]).reshape(2, 1) # 2D Array\n",
    "\n",
    "# a)\n",
    "print(x.shape) # 1D Array\n",
    "print(x_re.shape) # 2D array\n",
    "\n",
    "# b)\n",
    "print(5 * x)\n",
    "\n",
    "# c)\n",
    "print(3 * x)\n",
    "\n",
    "# d)\n",
    "print(5 * x + 3 * x)\n",
    "\n",
    "# e)\n",
    "print(8 * x)\n",
    "\n",
    "# f)\n",
    "print(4 * x - x)\n",
    "\n",
    "# g)\n",
    "# Om x är definierat som en 1D array\n",
    "print(x.T.shape)\n",
    "\n",
    "# Om x är definierat som en 2D array\n",
    "print(x_re.T.shape)\n",
    "\n",
    "# h)\n",
    "x_t = (x.T)\n",
    "print(x + x_t)\n",
    "\n",
    "# i)\n",
    "print(np.linalg.norm(x))\n",
    "print(np.linalg.norm(x_re))\n"
   ],
   "outputs": [
    {
     "name": "stdout",
     "output_type": "stream",
     "text": [
      "(2,)\n",
      "(2, 1)\n",
      "[20 15]\n",
      "[12  9]\n",
      "[32 24]\n",
      "[32 24]\n",
      "[12  9]\n",
      "(2,)\n",
      "(1, 2)\n",
      "[8 6]\n",
      "5.0\n",
      "5.0\n"
     ]
    }
   ],
   "execution_count": 19
  },
  {
   "cell_type": "markdown",
   "id": "75c98984-1f88-4df1-b850-d2466de444a5",
   "metadata": {},
   "source": [
    "### Solve all the exercises, except 10.2.4, in chapter 10.2 in the book \"Matematik för yrkeshögskolan\". "
   ]
  },
  {
   "cell_type": "code",
   "id": "65371610-16e1-48b2-b7fb-65e49002608a",
   "metadata": {
    "ExecuteTime": {
     "end_time": "2024-11-06T10:13:56.516117Z",
     "start_time": "2024-11-06T10:13:56.506969Z"
    }
   },
   "source": [
    "A = np.array([[2, 1, -1], [1, -1, 1]])\n",
    "B = np.array([[4, -2, 1], [2, -4, -2]])\n",
    "C = np.array([[1, 2], [2, 1]])\n",
    "D = np.array([[3, 4], [4, 3]])\n",
    "E = np.array([[1], [2]])\n",
    "I = np.array([[1, 0], [0, 1]])\n",
    "\n",
    "\n",
    "a = 2 * A\n",
    "print(a)\n",
    "\n",
    "b = B - 2 * A\n",
    "print(\"\\n\", b)\n",
    "\n",
    "c = 3 * C - 2 * E\n",
    "print(\"\\n\", c)\n",
    "\n",
    "d = 2 * D - 3 * C\n",
    "print(\"\\n\", d)\n",
    "\n",
    "e = D.T + 2 * D\n",
    "print(\"\\n\", e)\n",
    "\n",
    "f = 2 * C.T - 2 * D.T\n",
    "print(\"\\n\", f)\n",
    "\n",
    "#g = A.T - B - \"ValueError: operands could not be broadcast together with shapes (3,2) (2,3)\"\n",
    "#print(\"\\n\", g)\n",
    "\n",
    "h = add_mult_matrices(A, C, \"multi\")\n",
    "print(\"\\n\", h)\n",
    "\n",
    "i = add_mult_matrices(C, D, \"multi\")\n",
    "print(\"\\n\", i)\n",
    "\n",
    "j = add_mult_matrices(C, B, \"multi\")\n",
    "print(\"\\n\", j)\n",
    "\n",
    "k = add_mult_matrices(C, I, \"multi\")\n",
    "print(\"\\n\", k)\n",
    "\n",
    "i = add_mult_matrices(A, B.T, \"multi\")\n",
    "print(\"\\n\", i)\n",
    "\n"
   ],
   "outputs": [
    {
     "name": "stdout",
     "output_type": "stream",
     "text": [
      "[[ 4  2 -2]\n",
      " [ 2 -2  2]]\n",
      "\n",
      " [[ 0 -4  3]\n",
      " [ 0 -2 -4]]\n",
      "\n",
      " [[ 1  4]\n",
      " [ 2 -1]]\n",
      "\n",
      " [[3 2]\n",
      " [2 3]]\n",
      "\n",
      " [[ 9 12]\n",
      " [12  9]]\n",
      "\n",
      " [[-4 -4]\n",
      " [-4 -4]]\n",
      "Shape mismatch\n",
      "\n",
      " None\n",
      "\n",
      " [[11 10]\n",
      " [10 11]]\n",
      "\n",
      " [[  8 -10  -3]\n",
      " [ 10  -8   0]]\n",
      "\n",
      " [[1 2]\n",
      " [2 1]]\n",
      "\n",
      " [[5 2]\n",
      " [7 4]]\n"
     ]
    }
   ],
   "execution_count": 58
  },
  {
   "cell_type": "markdown",
   "id": "6a4a524f",
   "metadata": {},
   "source": [
    "### Copies and Views\n",
    "Read the following link: https://numpy.org/doc/stable/user/basics.copies.html"
   ]
  },
  {
   "metadata": {
    "ExecuteTime": {
     "end_time": "2024-11-06T10:16:47.482392Z",
     "start_time": "2024-11-06T10:16:47.476888Z"
    }
   },
   "cell_type": "code",
   "source": [
    "A = np.array([[2, 3, 4], [5, 4, 1]])\n",
    "\n",
    "a = add_mult_matrices(A, A.T, \"multi\")\n",
    "print(a)"
   ],
   "id": "b01ea49f96fb93c8",
   "outputs": [
    {
     "name": "stdout",
     "output_type": "stream",
     "text": [
      "[[29 26]\n",
      " [26 42]]\n"
     ]
    }
   ],
   "execution_count": 61
  },
  {
   "metadata": {
    "ExecuteTime": {
     "end_time": "2024-11-06T10:32:54.521327Z",
     "start_time": "2024-11-06T10:32:54.515776Z"
    }
   },
   "cell_type": "code",
   "source": [
    "A = np.array([[1, 2], [2, 4]])\n",
    "B = np.array([[2, 1], [1, 3]])\n",
    "C = np.array([[4, 3], [0, 2]])\n",
    "\n",
    "A_B = add_mult_matrices(A, B, \"multi\")\n",
    "A_C = add_mult_matrices(A, C, \"multi\")\n",
    "\n",
    "#Kollar att AB == AC\n",
    "AB_AC = A_B == A_C\n",
    "print(AB_AC)\n",
    "\n",
    "#Kollar att B inte är lika med C\n",
    "B_C = B != C\n",
    "print(\"\\n\", B_C)"
   ],
   "id": "ab5298cd3194c2d9",
   "outputs": [
    {
     "name": "stdout",
     "output_type": "stream",
     "text": [
      "[[ True  True]\n",
      " [ True  True]]\n",
      "\n",
      " [[ True  True]\n",
      " [ True  True]]\n"
     ]
    }
   ],
   "execution_count": 65
  },
  {
   "cell_type": "markdown",
   "id": "6cbbeaf7",
   "metadata": {},
   "source": "**Basic indexing creates a view, How can you check if v1 and v2 is a view or copy? If you change the last element in v2 to 123, will the last element in v1 be changed? Why?**"
  },
  {
   "cell_type": "code",
   "id": "5b9ef4df",
   "metadata": {
    "ExecuteTime": {
     "end_time": "2024-10-15T15:24:14.396552Z",
     "start_time": "2024-10-15T15:24:14.390325Z"
    }
   },
   "source": [
    "v1 = np.arange(4)\n",
    "v2 = v1[-2:]\n",
    "print(v1)\n",
    "print(v2)"
   ],
   "outputs": [
    {
     "name": "stdout",
     "output_type": "stream",
     "text": [
      "[0 1 2 3]\n",
      "[2 3]\n"
     ]
    }
   ],
   "execution_count": 45
  },
  {
   "cell_type": "code",
   "id": "d2440489",
   "metadata": {
    "ExecuteTime": {
     "end_time": "2024-10-15T15:24:16.637377Z",
     "start_time": "2024-10-15T15:24:16.625358Z"
    }
   },
   "source": [
    "# The base attribute of a view returns the original array while it returns None for a copy.\n",
    "print(v1.base)\n",
    "print(v2.base)"
   ],
   "outputs": [
    {
     "name": "stdout",
     "output_type": "stream",
     "text": [
      "None\n",
      "[0 1 2 3]\n"
     ]
    }
   ],
   "execution_count": 46
  },
  {
   "cell_type": "code",
   "id": "c8752807",
   "metadata": {
    "ExecuteTime": {
     "end_time": "2024-10-15T15:24:18.952183Z",
     "start_time": "2024-10-15T15:24:18.946855Z"
    }
   },
   "source": [
    "# The last element in v1 will be changed aswell since v2 is a view, meaning they share the same data buffer.\n",
    "v2[-1] = 123\n",
    "print(v1)\n",
    "print(v2)"
   ],
   "outputs": [
    {
     "name": "stdout",
     "output_type": "stream",
     "text": [
      "[  0   1   2 123]\n",
      "[  2 123]\n"
     ]
    }
   ],
   "execution_count": 47
  },
  {
   "cell_type": "code",
   "execution_count": null,
   "id": "3dd68221",
   "metadata": {},
   "outputs": [],
   "source": []
  }
 ],
 "metadata": {
  "kernelspec": {
   "display_name": "Python 3 (ipykernel)",
   "language": "python",
   "name": "python3"
  },
  "language_info": {
   "codemirror_mode": {
    "name": "ipython",
    "version": 3
   },
   "file_extension": ".py",
   "mimetype": "text/x-python",
   "name": "python",
   "nbconvert_exporter": "python",
   "pygments_lexer": "ipython3",
   "version": "3.9.18"
  }
 },
 "nbformat": 4,
 "nbformat_minor": 5
}
